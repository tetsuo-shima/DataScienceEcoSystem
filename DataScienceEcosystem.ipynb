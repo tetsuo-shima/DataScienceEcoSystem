{
 "cells": [
  {
   "cell_type": "markdown",
   "id": "7bbe7f0f-194a-4ae7-865b-6f8dbafdfb50",
   "metadata": {},
   "source": [
    "# Data Science Tools and Ecosystem #"
   ]
  },
  {
   "attachments": {},
   "cell_type": "markdown",
   "id": "35ffe30c-42b7-4317-990a-78cdf216c985",
   "metadata": {},
   "source": [
    "In this notebook, Data Science Tools and Ecosystem are summarized."
   ]
  },
  {
   "cell_type": "markdown",
   "id": "57b83ae6-33e1-4082-9232-65f0b3302130",
   "metadata": {},
   "source": [
    "Objectives:\n",
    "* List popular labguages of Data Science\n",
    "* List packages, APIs, Data Sets and Models\n",
    "* Learn how to use Jupyter Notebooks and JupyterLab\n"
   ]
  },
  {
   "cell_type": "markdown",
   "id": "89627026-4e15-4100-bd2e-49d11ce05b8e",
   "metadata": {},
   "source": [
    "Some of the popular languages that Data Scientists use are:\n",
    "1. Pandas\n",
    "2. Numpy\n",
    "3. Matplotlib"
   ]
  },
  {
   "cell_type": "markdown",
   "id": "a2cafece-71e0-4a12-be30-b93a06e96518",
   "metadata": {},
   "source": [
    "Some of the commonly used libraries used by Data Scientists include:\n",
    "1. Pandas\n",
    "2. Numpy\n",
    "3. Matplotlib"
   ]
  },
  {
   "cell_type": "markdown",
   "id": "6a0efc1c-7f94-4ac5-a809-a2b734297de3",
   "metadata": {},
   "source": [
    "|Data Science Tools|\n",
    "|-|\n",
    "|Jupyter Notebook|\n",
    "|RStudio|\n",
    "|GitHub |"
   ]
  },
  {
   "cell_type": "markdown",
   "id": "a5ae163a-6b05-415f-af8c-6f791300eae8",
   "metadata": {},
   "source": [
    "Below are a few examples of evaluating arithmetic expressions in Python"
   ]
  },
  {
   "cell_type": "code",
   "execution_count": 6,
   "id": "fa20f2c1-746e-4274-b347-5a0694bbc215",
   "metadata": {},
   "outputs": [
    {
     "data": {
      "text/plain": [
       "17"
      ]
     },
     "execution_count": 6,
     "metadata": {},
     "output_type": "execute_result"
    }
   ],
   "source": [
    "# This a simple arithmetic expression to mutiply then add integers\n",
    "(3*4)+5"
   ]
  },
  {
   "cell_type": "code",
   "execution_count": 7,
   "id": "0349f73d-dcdd-42eb-ad61-34c3a89487d1",
   "metadata": {},
   "outputs": [
    {
     "data": {
      "text/plain": [
       "3.3333333333333335"
      ]
     },
     "execution_count": 7,
     "metadata": {},
     "output_type": "execute_result"
    }
   ],
   "source": [
    "#This will convert 200 minutes to hours by diving by 60\n",
    "200 / 60"
   ]
  },
  {
   "cell_type": "markdown",
   "id": "68dcaa52-f321-462d-8973-09c31d8d96d3",
   "metadata": {},
   "source": [
    "\n",
    "## Author ##\n",
    "Dwight Francis"
   ]
  }
 ],
 "metadata": {
  "kernelspec": {
   "display_name": "Python 3 (ipykernel)",
   "language": "python",
   "name": "python3"
  },
  "language_info": {
   "codemirror_mode": {
    "name": "ipython",
    "version": 3
   },
   "file_extension": ".py",
   "mimetype": "text/x-python",
   "name": "python",
   "nbconvert_exporter": "python",
   "pygments_lexer": "ipython3",
   "version": "3.12.3"
  }
 },
 "nbformat": 4,
 "nbformat_minor": 5
}
